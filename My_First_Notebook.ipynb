{
 "cells": [
  {
   "cell_type": "markdown",
   "id": "2a096df3",
   "metadata": {},
   "source": [
    "In a Jupyter Notebook, cells are the building blocks used for creating and organizing content. There are two main types of cells: code cells and markdown cells. Code cells allow users to write and execute code in various programming languages such as Python, R, or Julia, producing outputs like numerical results, plots, or textual data. Markdown cells, on the other hand, enable users to write formatted text using Markdown syntax, allowing for easy documentation, explanations, or annotations within the notebook. This combination of code and markdown cells facilitates interactive computing, data analysis, and sharing of results in a single, cohesive document."
   ]
  },
  {
   "cell_type": "code",
   "execution_count": 1,
   "id": "da436f6c",
   "metadata": {},
   "outputs": [
    {
     "name": "stdout",
     "output_type": "stream",
     "text": [
      "Hello World!\n"
     ]
    }
   ],
   "source": [
    "print (\"Hello World!\")"
   ]
  },
  {
   "cell_type": "markdown",
   "id": "aceebf2e",
   "metadata": {},
   "source": [
    "**My first markdown cell in Jupyter!**"
   ]
  },
  {
   "cell_type": "code",
   "execution_count": null,
   "id": "04c5d521",
   "metadata": {},
   "outputs": [],
   "source": []
  }
 ],
 "metadata": {
  "kernelspec": {
   "display_name": "Python 3 (ipykernel)",
   "language": "python",
   "name": "python3"
  },
  "language_info": {
   "codemirror_mode": {
    "name": "ipython",
    "version": 3
   },
   "file_extension": ".py",
   "mimetype": "text/x-python",
   "name": "python",
   "nbconvert_exporter": "python",
   "pygments_lexer": "ipython3",
   "version": "3.11.5"
  }
 },
 "nbformat": 4,
 "nbformat_minor": 5
}
